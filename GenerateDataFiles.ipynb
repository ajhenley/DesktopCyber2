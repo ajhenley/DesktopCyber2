{
 "cells": [
  {
   "cell_type": "code",
   "execution_count": 1,
   "metadata": {},
   "outputs": [],
   "source": [
    "import sqlite3 as lite\n",
    "from sqlalchemy import create_engine\n",
    "import pandas as pd\n",
    "import random\n",
    "from faker import Faker\n",
    "from faker.providers import internet\n",
    "from faker.providers import user_agent\n",
    "\n",
    "import datetime as DT\n",
    "from datetime import timedelta\n",
    "from modules.log_dhcp5 import DHCPLog\n",
    "from modules.outbound_browsing.make_outbound_traffic4 import OutboundEvent\n",
    "from tqdm import tqdm\n",
    "\n",
    "faker = Faker()\n",
    "faker.add_provider(internet)\n",
    "faker.add_provider(user_agent)\n",
    "today = DT.date.today()"
   ]
  },
  {
   "cell_type": "code",
   "execution_count": 2,
   "metadata": {},
   "outputs": [],
   "source": [
    "def generateAddresses(network):\n",
    "    addresses = []\n",
    "    for i in range(1,65535):\n",
    "        addr = build_address(network, i)\n",
    "        addresses.append(addr)\n",
    "    return addresses\n",
    "\n",
    "def build_address(network, node):\n",
    "    hexy = hex(node)\n",
    "    pos = hexy.index('x') + 1\n",
    "    hexy = hexy[pos:].zfill( 4)\n",
    "    first = int(hexy[:2], 16)\n",
    "    second = int(hexy[2:], 16)\n",
    "    \n",
    "    return network + \".\" + str(first).zfill(3) + \".\" + str(second).zfill(3)"
   ]
  },
  {
   "cell_type": "code",
   "execution_count": 3,
   "metadata": {},
   "outputs": [],
   "source": [
    "# Data Setup\n",
    "with open('external_hosts.txt', 'r') as f:\n",
    "    endpoints = f.readlines()\n",
    "    \n",
    "with open('stu_external_hosts.txt', 'r') as f:\n",
    "    stu_endpoints = f.readlines()\n",
    "\n",
    "with open('tch_external_hosts.txt', 'r') as f:\n",
    "    tch_endpoints = f.readlines()\n",
    "\n",
    "stu_endpoints += endpoints\n",
    "    \n",
    "tch_endpoints += endpoints\n",
    "\n",
    "my_proto_addresses = generateAddresses(\"192.168\")"
   ]
  },
  {
   "cell_type": "code",
   "execution_count": 4,
   "metadata": {},
   "outputs": [],
   "source": [
    "db_filename = r'mydb.db'\n",
    "startdate = today - DT.timedelta(days=7)\n",
    "\n",
    "engine = create_engine(r\"sqlite:///{}\".format(db_filename))\n",
    "sql = 'SELECT * from devices'\n",
    "device_df = pd.read_sql(sql, engine)\n",
    "\n",
    "# sql = 'SELECT * from students'\n",
    "# df_students = pd.read_sql(sql, engine)\n",
    "# df_students = pd.DataFrame(columns={'stuid', 'fname', 'lname', 'address', 'city', 'state', 'hphone', 'dob', 'ssn', 'grade', 'schoolassignment', 'deviceassignment'})\n",
    "\n",
    "devices = pd.DataFrame()\n",
    "df_dhcp = pd.DataFrame(columns={\"id\", \"date\", \"time\", \"description\", \"ip\", \"macaddr\"})\n",
    "\n",
    "DHCP_LOG = []\n",
    "WEB_LOG = []\n",
    "df_event_summary = pd.DataFrame(columns={'stime', 'etime', 'src_ip', 'user_agent', 'ownertype'})\n",
    "\n",
    "# j = 0\n",
    "\n",
    "# for d in range(4, 9):\n",
    "\n",
    "            \n",
    "  #         new_log_entry = DHCPLog(j, mydate, mytime, myip, mac, 'Initiated IP Lease')\n",
    "  #         DHCP_LOG.append(new_log_entry.stringify())\n"
   ]
  },
  {
   "cell_type": "code",
   "execution_count": 13,
   "metadata": {},
   "outputs": [],
   "source": [
    "my_proto_addresses = generateAddresses(\"192.168\")"
   ]
  },
  {
   "cell_type": "code",
   "execution_count": 14,
   "metadata": {},
   "outputs": [
    {
     "data": {
      "text/plain": [
       "65534"
      ]
     },
     "execution_count": 14,
     "metadata": {},
     "output_type": "execute_result"
    }
   ],
   "source": [
    "len(my_proto_addresses)"
   ]
  },
  {
   "cell_type": "code",
   "execution_count": 22,
   "metadata": {},
   "outputs": [],
   "source": [
    "j = 0\n",
    "d = 8\n",
    "myaddresses = my_proto_addresses.copy()\n",
    "for i in range(len(device_df)):\n",
    "    if random.random() < .8:\n",
    "        j = j + 1\n",
    "        myip = random.choice(myaddresses)\n",
    "        myaddresses.remove(myip)\n",
    "        dev = device_df.iloc[i]\n",
    "        mac = dev['mac_addr']\n",
    "        dev['ip'] = myip                                                                                    # IP Address  \n",
    "        if dev['dev_type'] == 'tablet':\n",
    "            mydatetime = DT.datetime(2020, 4, 20+d) + timedelta(minutes=(int(random.randrange(510, 630))))\n",
    "        elif dev['dev_type'] == 'desktop':\n",
    "            mydatetime = DT.datetime(2020, 4, 20+d) + timedelta(minutes=(int(random.randrange(480, 600))))\n",
    "        else:\n",
    "            mydatetime = DT.datetime(2020, 4, 20+d) + timedelta(minutes=(int(random.randrange(360, 600))))\n",
    "\n",
    "        mydate = mydatetime.date()\n",
    "        mytime = mydatetime.time()\n",
    "        values_to_add = {\n",
    "            \"date\": mydate, \n",
    "            \"time\": mytime, \n",
    "            \"description\": 'Initiated IP Lease', \n",
    "            \"ip\": myip, \n",
    "            \"macaddr\": mac\n",
    "        }\n",
    "        row_to_add = pd.Series(values_to_add, name = j)\n",
    "        df_dhcp = df_dhcp.append(row_to_add)\n",
    "\n",
    "        mydatetime2 = mydatetime + timedelta(hours=8)\n",
    "        mydate2 = mydatetime2.date()\n",
    "        mytime2 = mydatetime2.time()\n",
    "        values_to_add = {\n",
    "            \"date\": mydate2, \n",
    "            \"time\": mytime2, \n",
    "            \"description\": 'IP Lease Expired', \n",
    "            \"ip\": myip, \n",
    "            \"macaddr\": mac\n",
    "        }\n",
    "        row_to_add = pd.Series(values_to_add, name = j)\n",
    "        df_dhcp = df_dhcp.append(row_to_add)\n",
    "\n",
    "        if dev['dev_type'] == 'tablet':\n",
    "            time = faker.date_time_between(start_date=mydatetime, end_date='+5h')\n",
    "        elif dev['dev_type'] == 'desktop':\n",
    "            time = faker.date_time_between(start_date=mydatetime, end_date='+8h')\n",
    "        else:\n",
    "            time = faker.date_time_between(start_date=mydatetime, end_date=mydatetime2)\n",
    "\n",
    "        ev_num = random.randrange(10, 100)\n",
    "        if dev['dev_type'] == 'tablet':\n",
    "            user_agent = \"https://developers.whatismybrowser.com/useragents/parse/864604-safari-ios-ipad-webkit\"\n",
    "        elif dev['dev_type'] == 'desktop':\n",
    "            user_agent = \"Mozilla/5.0 (Windows NT 10.0; Win64; x64) AppleWebKit/537.36 (KHTML, like Gecko) Chrome/67.0.3396.99 Safari/537.36\"\n",
    "        else:\n",
    "            user_agent = \"Mozilla/5.0 (Windows NT 10.0; Win64; x64) AppleWebKit/537.36 (KHTML, like Gecko) Chrome/58.0.3029.110 Safari/537.36 Edge/16.16299\"\n",
    "\n",
    "        values_to_add = {\n",
    "            'stime': mydatetime, \n",
    "            'etime': mydatetime2, \n",
    "            'src_ip': myip, \n",
    "            'user_agent': user_agent, \n",
    "            'dev_type': dev['dev_type']\n",
    "            }\n",
    "        row_to_add = pd.Series(values_to_add, name = j)\n",
    "        df_event_summary = df_event_summary.append(row_to_add)"
   ]
  },
  {
   "cell_type": "code",
   "execution_count": null,
   "metadata": {},
   "outputs": [],
   "source": [
    "len(df_event_summary)"
   ]
  },
  {
   "cell_type": "code",
   "execution_count": null,
   "metadata": {},
   "outputs": [],
   "source": []
  },
  {
   "cell_type": "code",
   "execution_count": null,
   "metadata": {},
   "outputs": [],
   "source": [
    "# Write out the DHCP Log\n",
    "df_dhcp_sorted = df_dhcp.sort_values('time')\n",
    "DHCP_LOG = []\n",
    "i = 0\n",
    "for index, row in df_dhcp_sorted.iterrows():\n",
    "    i = i + 1\n",
    "    new_log_entry = DHCPLog(i, row['date'], row['time'], row['ip'], row['macaddr'], 'Initiated IP Lease')\n",
    "    DHCP_LOG.append(new_log_entry.stringify())\n",
    "        \n",
    "with open(r'dhcp.log', 'w+') as f:\n",
    "    for event in DHCP_LOG:\n",
    "        f.write(event)\n",
    "        f.write(\"\\n\")"
   ]
  },
  {
   "cell_type": "code",
   "execution_count": null,
   "metadata": {},
   "outputs": [],
   "source": [
    "df_event = pd.DataFrame(columns={\"time\", \"method\", \"src_ip\", \"url\", \"request\", \"dst_ip\", \"user_agent\"})\n",
    "for index, row in df_event_summary:\n",
    "    for i in range(1, random.randrange(5,100)):\n",
    "        if row['dev_type'] == 'tablet':\n",
    "            event = OutboundEvent(time, '', stu_endpoints)\n",
    "        elif row['dev_type'] == 'desktop':\n",
    "            event = OutboundEvent(time, '', endpoints)\n",
    "        else:\n",
    "            event = OutboundEvent(time, '', teacher_endpoints)\n",
    "        values_to_add = {\n",
    "            \"time\": faker.date_time_between(start_date=row['stime'], end_date=row['etime']), \n",
    "            \"method\": event.method, \n",
    "            \"src_ip\": row['src_ip'], \n",
    "            \"url\": event.url, \n",
    "            \"request\": event.request, \n",
    "            \"dst_ip\": event.dst_ip, \n",
    "            \"user_agent\": row['user_agent']\n",
    "            }\n",
    "        row_to_add = pd.Series(values_to_add, name = j)\n",
    "        df_event_summary = df_event_summary.append(row_to_add)\n",
    "            \n",
    "print('done')"
   ]
  },
  {
   "cell_type": "code",
   "execution_count": null,
   "metadata": {},
   "outputs": [],
   "source": [
    "# Write out web log\n",
    "df_events_sorted = df_events.sort_values(\"time\")\n",
    "WEB_EVENTS = []\n",
    "i = 0\n",
    "for index, row in df_events_sorted.iterrows():\n",
    "    i += 1\n",
    "    new_event = ' '.join([str(x) for x in [row['time'], row['method'], row['src_ip'], row['url'], row['request'], row['dst_ip'], row['user_agent']]])\n",
    "    WEB_LOG.append(new_event)\n",
    "    \n",
    "with open(r'weblog.log', 'w+') as f:\n",
    "    for event in DHCP_LOG:\n",
    "        f.write(event)\n",
    "        f.write(\"\\n\")\n",
    "        \n",
    "# def stringify(self):\n",
    "#     \"\"\"Print the data in one convinient line\"\"\"\n",
    "#     logline = ' '.join([str(x) for x in [self.time, self.method, self.src_ip, self.url, self.request, self.dst_ip,\n",
    "#                                          self.user_agent]])\n",
    "\n",
    "#     return logline"
   ]
  },
  {
   "cell_type": "code",
   "execution_count": null,
   "metadata": {},
   "outputs": [],
   "source": [
    "def generate_web_traffic(start_dt, end_dt):\n",
    "        time = faker.date_time_between(start_date='-8h', end_date=end_dt)\n",
    "        new_event = OutboundEvent(time, hosts, endpoints).stringify()\n",
    "        WEB_EVENTS.append(new_event)"
   ]
  },
  {
   "cell_type": "code",
   "execution_count": null,
   "metadata": {},
   "outputs": [],
   "source": [
    "with open(r'dhcp.log', 'w+') as f:\n",
    "    for event in DHCP_LOG:\n",
    "        f.write(event)\n",
    "        f.write(\"\\n\")"
   ]
  },
  {
   "cell_type": "code",
   "execution_count": null,
   "metadata": {},
   "outputs": [],
   "source": [
    "print(faker.ipv4())\n",
    "print(faker.uri())"
   ]
  },
  {
   "cell_type": "code",
   "execution_count": null,
   "metadata": {},
   "outputs": [],
   "source": [
    "faker.date_time_between(start_date='-8h', end_date='now')"
   ]
  },
  {
   "cell_type": "code",
   "execution_count": null,
   "metadata": {},
   "outputs": [],
   "source": [
    "time = datetime."
   ]
  },
  {
   "cell_type": "code",
   "execution_count": null,
   "metadata": {},
   "outputs": [],
   "source": []
  }
 ],
 "metadata": {
  "kernelspec": {
   "display_name": "Python 3",
   "language": "python",
   "name": "python3"
  },
  "toc": {
   "base_numbering": 1,
   "nav_menu": {},
   "number_sections": false,
   "sideBar": false,
   "skip_h1_title": false,
   "title_cell": "Table of Contents",
   "title_sidebar": "Contents",
   "toc_cell": false,
   "toc_position": {},
   "toc_section_display": false,
   "toc_window_display": false
  }
 },
 "nbformat": 4,
 "nbformat_minor": 2
}
